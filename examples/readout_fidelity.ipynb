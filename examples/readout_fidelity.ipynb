{
 "cells": [
  {
   "cell_type": "markdown",
   "metadata": {},
   "source": [
    "# Simple Readout Fidelity Measurement \n",
    "\n",
    "Run an identity, `I`, or an `X` pulse to estimate readout fidelity. "
   ]
  },
  {
   "cell_type": "markdown",
   "metadata": {},
   "source": [
    "## setup"
   ]
  },
  {
   "cell_type": "code",
   "execution_count": null,
   "metadata": {},
   "outputs": [],
   "source": [
    "from math import pi\n",
    "from typing import List\n",
    "\n",
    "import numpy as np\n",
    "\n",
    "from pyquil import Program, get_qc\n",
    "from pyquil.api import QuantumComputer\n",
    "from pyquil.gates import *"
   ]
  },
  {
   "cell_type": "markdown",
   "metadata": {},
   "source": [
    "## measuring readout fidelity\n",
    "\n",
    "`run_readout` constructs and measures a program for a single qubit depending on whether the $\\left|0\\right>$ state or the $\\left|1\\right>$ state is targeted. When $\\left|0\\right>$ is targeted, we prepare a qubit in the ground state with an identity operation. Similarly, When $\\left|1\\right>$ is targeted, we prepare a qubit in the excited state with an `X` gate. "
   ]
  },
  {
   "cell_type": "code",
   "execution_count": null,
   "metadata": {},
   "outputs": [],
   "source": [
    "def run_readout(qc: QuantumComputer, qubit: int, target: int, n_shots: int = 1000):\n",
    "    \"\"\"\n",
    "    Measure a qubit. Optionally flip a bit first.\n",
    "\n",
    "    :param qc: The quantum computer to run on\n",
    "    :param qubit: The qubit to probe\n",
    "    :param target: What state we want. Either 0 or 1.\n",
    "    :param n_shots: The number of times to repeat the experiment\n",
    "    \"\"\"\n",
    "\n",
    "    # Step 2. Construct and compile your program\n",
    "    program = Program()\n",
    "    ro = program.declare('ro', 'BIT', 1)\n",
    "    # Uncomment to enable active reset\n",
    "    # program += RESET()\n",
    "    if target == 0:\n",
    "        program += I(qubit)\n",
    "    elif target == 1:\n",
    "        program += RX(pi, qubit)\n",
    "    else:\n",
    "        raise ValueError(\"Target should be 0 or 1\")\n",
    "\n",
    "    program += MEASURE(qubit, ro[0])\n",
    "    program = program.wrap_in_numshots_loop(n_shots)\n",
    "\n",
    "    nq_program = program\n",
    "    # Uncomment to test the quilc compiler\n",
    "    # nq_program = qc.compiler.quil_to_native_quil(program)\n",
    "    executable = qc.compiler.native_quil_to_executable(nq_program)\n",
    "\n",
    "    bitstrings = qc.run(executable)\n",
    "    return np.mean(bitstrings[:, 0])"
   ]
  },
  {
   "cell_type": "markdown",
   "metadata": {},
   "source": [
    "`run_readouts` is a wrapper for `run_readout` that runs on each qubit, targetting $\\left|0\\right>$ for many measurements (default 1000) and then $\\left|1\\right>$. When we prepare in the $\\left|0\\right>$ state, we expect to measure in the $\\left|0\\right>$ state, so the percentage of the time we do in fact measure $\\left|0\\right>$ gives us `p(0|0)`. We do the same for `p(1|1)` and print the results. "
   ]
  },
  {
   "cell_type": "code",
   "execution_count": null,
   "metadata": {},
   "outputs": [],
   "source": [
    "def run_readouts(qc: QuantumComputer):\n",
    "    \"\"\"\n",
    "    Characterize readout on several qubits, one at a time.\n",
    "\n",
    "    This collects results and prints them out at the end because we\n",
    "    print the compiled and uncompiled programs within ``run_readout``.\n",
    "\n",
    "    :param qc: The QuantumComputer to run on\n",
    "    :param qubits: A list of qubits to characterize one at a time.\n",
    "    \"\"\"\n",
    "    results = []\n",
    "    for qubit in qc.qubits():\n",
    "        p0 = run_readout(qc=qc, qubit=qubit, target=0)\n",
    "        p1 = run_readout(qc=qc, qubit=qubit, target=1)\n",
    "        results += [(qubit, p0, p1)]\n",
    "\n",
    "    print('q     p(0|0)    p(1|1)')\n",
    "    for qubit, p0, p1 in results:\n",
    "        print(f'q{qubit:<3d}{1-p0:10f}{p1:10f}')"
   ]
  },
  {
   "cell_type": "code",
   "execution_count": null,
   "metadata": {},
   "outputs": [],
   "source": [
    "run_readouts(qc=get_qc('9q-square-noisy-qvm'))"
   ]
  }
 ],
 "metadata": {
  "language_info": {
   "name": "python",
   "pygments_lexer": "ipython3"
  }
 },
 "nbformat": 4,
 "nbformat_minor": 2
}
