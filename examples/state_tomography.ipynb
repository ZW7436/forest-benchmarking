{
 "cells": [
  {
   "cell_type": "markdown",
   "metadata": {},
   "source": [
    "# State tomography"
   ]
  },
  {
   "cell_type": "code",
   "execution_count": null,
   "metadata": {},
   "outputs": [],
   "source": [
    "import numpy as np\n",
    "from pyquil.api import get_qc\n",
    "from pyquil import Program\n",
    "from pyquil.gates import I, X, RX, RY, H,CZ\n",
    "\n",
    "from forest_qcvv.tomography import \\\n",
    "    generate_state_tomography_experiment, \\\n",
    "    acquire_tomography_data, \\\n",
    "    linear_inv_state_estimate"
   ]
  },
  {
   "cell_type": "markdown",
   "metadata": {},
   "source": [
    "## Set the shots, the qubits of interest, the quantum device"
   ]
  },
  {
   "cell_type": "code",
   "execution_count": null,
   "metadata": {},
   "outputs": [],
   "source": [
    "qubits = [0,1]\n",
    "qvm = get_qc(\"9q-square-qvm\", as_qvm=True, noisy=False)"
   ]
  },
  {
   "cell_type": "markdown",
   "metadata": {},
   "source": [
    "## Prepare the state of interest and generate tomography programs"
   ]
  },
  {
   "cell_type": "code",
   "execution_count": null,
   "metadata": {},
   "outputs": [],
   "source": [
    "state_prep = Program([H(q) for q in qubits])\n",
    "state_prep.inst(CZ(0,1))\n",
    "print(state_prep)"
   ]
  },
  {
   "cell_type": "code",
   "execution_count": null,
   "metadata": {},
   "outputs": [],
   "source": [
    "exp_desc = generate_state_tomography_experiment(state_prep)"
   ]
  },
  {
   "cell_type": "code",
   "execution_count": null,
   "metadata": {},
   "outputs": [],
   "source": [
    "print(exp_desc.program)"
   ]
  },
  {
   "cell_type": "code",
   "execution_count": null,
   "metadata": {},
   "outputs": [],
   "source": [
    "[str(exp_desc.out_ops[idx]) for idx in list(range(0,(2**len(qubits))**2-1))]"
   ]
  },
  {
   "cell_type": "markdown",
   "metadata": {},
   "source": [
    "# Acquire data"
   ]
  },
  {
   "cell_type": "code",
   "execution_count": null,
   "metadata": {},
   "outputs": [],
   "source": [
    "exp_data = acquire_tomography_data(exp_desc, qvm, 0.001)"
   ]
  },
  {
   "cell_type": "code",
   "execution_count": null,
   "metadata": {},
   "outputs": [],
   "source": [
    "exp_data"
   ]
  },
  {
   "cell_type": "code",
   "execution_count": null,
   "metadata": {},
   "outputs": [],
   "source": [
    "est = linear_inv_state_estimate(exp_data)"
   ]
  },
  {
   "cell_type": "code",
   "execution_count": null,
   "metadata": {},
   "outputs": [],
   "source": [
    "type(est)"
   ]
  },
  {
   "cell_type": "code",
   "execution_count": null,
   "metadata": {},
   "outputs": [],
   "source": [
    "np.round(est.estimate.state_point_est,2)"
   ]
  },
  {
   "cell_type": "code",
   "execution_count": null,
   "metadata": {},
   "outputs": [],
   "source": [
    "np.trace(np.matmul(est.estimate.state_point_est, est.estimate.state_point_est))"
   ]
  },
  {
   "cell_type": "code",
   "execution_count": null,
   "metadata": {},
   "outputs": [],
   "source": [
    "from pyquil.api import WavefunctionSimulator\n",
    "wfs = WavefunctionSimulator()\n",
    "wf = wfs.wavefunction(state_prep)\n",
    "yo = wf.amplitudes\n",
    "target = np.outer(yo, yo)\n",
    "print(target)"
   ]
  },
  {
   "cell_type": "markdown",
   "metadata": {},
   "source": [
    "## Linear inversion estimate"
   ]
  },
  {
   "cell_type": "code",
   "execution_count": null,
   "metadata": {},
   "outputs": [],
   "source": [
    "rho_est = linear_inv_state_estimate(exp_data).estimate.state_point_est\n",
    "\n",
    "print(np.round(rho_est, 4))\n",
    "print('Purity = ', np.trace(np.matmul(rho_est, rho_est)))"
   ]
  },
  {
   "cell_type": "code",
   "execution_count": null,
   "metadata": {},
   "outputs": [],
   "source": [
    "type(linear_inv_state_estimate(exp_data))"
   ]
  },
  {
   "cell_type": "markdown",
   "metadata": {},
   "source": [
    "## Maximum Liklihood Estimate (MLE) via diluted iterative method"
   ]
  },
  {
   "cell_type": "code",
   "execution_count": null,
   "metadata": {},
   "outputs": [],
   "source": [
    "from forest_qcvv.tomography import iterative_mle_state_estimate"
   ]
  },
  {
   "cell_type": "code",
   "execution_count": null,
   "metadata": {},
   "outputs": [],
   "source": [
    "est_mle,status = iterative_mle_state_estimate(exp_data, dilution=0.5)\n",
    "rho = est_mle.estimate.state_point_est\n",
    "print(np.around(rho, decimals=4))\n",
    "print('Purity = ', np.trace(rho @ rho))"
   ]
  },
  {
   "cell_type": "code",
   "execution_count": null,
   "metadata": {},
   "outputs": [],
   "source": [
    "type(est_mle)"
   ]
  },
  {
   "cell_type": "markdown",
   "metadata": {},
   "source": [
    "## MLE with Max Entropy constraint"
   ]
  },
  {
   "cell_type": "code",
   "execution_count": null,
   "metadata": {},
   "outputs": [],
   "source": [
    "est_max_ent, stat = iterative_mle_state_estimate(exp_data, dilution=0.5,entropy_penalty=0.005)\n",
    "rho = est_max_ent.estimate.state_point_est\n",
    "print(np.around(rho, decimals=4))\n",
    "print('Purity = ', np.trace(rho @ rho))"
   ]
  },
  {
   "cell_type": "markdown",
   "metadata": {},
   "source": [
    "## MLE with Hedging parameter"
   ]
  },
  {
   "cell_type": "code",
   "execution_count": null,
   "metadata": {},
   "outputs": [],
   "source": [
    "est_hedging, stat = iterative_mle_state_estimate(exp_data, dilution=0.5, beta=.61)\n",
    "rho = est_hedging.estimate.state_point_est\n",
    "print(np.around(rho, decimals=4))\n",
    "print('Purity = ', np.trace(rho @ rho))"
   ]
  },
  {
   "cell_type": "markdown",
   "metadata": {},
   "source": [
    "## Project an unphysical state to the closest physical state"
   ]
  },
  {
   "cell_type": "code",
   "execution_count": null,
   "metadata": {},
   "outputs": [],
   "source": [
    "from forest_qcvv.tomography import project_density_matrix"
   ]
  },
  {
   "cell_type": "code",
   "execution_count": null,
   "metadata": {},
   "outputs": [],
   "source": [
    "rho_un = np.array([[1.0, 0], [0, -0.75]])\n",
    "phys = project_density_matrix(rho_un)\n",
    "print(phys)"
   ]
  },
  {
   "cell_type": "code",
   "execution_count": null,
   "metadata": {},
   "outputs": [],
   "source": [
    "# Test the wizard method. Example from fig 1 of maximum likelihood minimum effort \n",
    "# https://doi.org/10.1103/PhysRevLett.108.070502\n",
    "\n",
    "eigs = np.diag(np.array(list(reversed([3.0/5, 1.0/2, 7.0/20, 1.0/10, -11.0/20]))))\n",
    "phys = project_density_matrix(eigs)\n",
    "np.allclose(phys,np.diag([0, 0, 1.0/5, 7.0/20, 9.0/20]))"
   ]
  },
  {
   "cell_type": "markdown",
   "metadata": {},
   "source": [
    "# Lightweight Bootstrap for functionals of the state"
   ]
  },
  {
   "cell_type": "code",
   "execution_count": null,
   "metadata": {},
   "outputs": [],
   "source": [
    "import forest_qcvv.distance_measures as dm\n",
    "from forest_qcvv.tomography import estimate_variance"
   ]
  },
  {
   "cell_type": "code",
   "execution_count": null,
   "metadata": {},
   "outputs": [],
   "source": [
    "def my_mle_estimator(data):\n",
    "    return  iterative_mle_state_estimate(data, dilution=0.5, entropy_penalty=0.0, beta=0.0)[0]"
   ]
  },
  {
   "cell_type": "markdown",
   "metadata": {},
   "source": [
    "**Purity**"
   ]
  },
  {
   "cell_type": "code",
   "execution_count": null,
   "metadata": {},
   "outputs": [],
   "source": [
    "mle_est = estimate_variance(exp_data, my_mle_estimator, dm.purity, n_resamples=40, project_to_physical=True)\n",
    "lin_inv_est = estimate_variance(exp_data, linear_inv_state_estimate, dm.purity, n_resamples=40, project_to_physical=True)\n",
    "print(mle_est)\n",
    "print(lin_inv_est)"
   ]
  },
  {
   "cell_type": "markdown",
   "metadata": {},
   "source": [
    "**Fidelity**"
   ]
  },
  {
   "cell_type": "code",
   "execution_count": null,
   "metadata": {},
   "outputs": [],
   "source": [
    "mle_est = estimate_variance(exp_data, my_mle_estimator, dm.fidelity, target_state=target, n_resamples=40, project_to_physical=True)\n",
    "lin_inv_est = estimate_variance(exp_data, linear_inv_state_estimate, dm.fidelity, target_state=target, n_resamples=40, project_to_physical=True)\n",
    "print(mle_est)\n",
    "print(lin_inv_est)"
   ]
  },
  {
   "cell_type": "code",
   "execution_count": null,
   "metadata": {},
   "outputs": [],
   "source": [
    "dm.fidelity((rho_est+rho_est.conj().T)/2, target)"
   ]
  }
 ],
 "metadata": {
  "language_info": {
   "name": "python",
   "pygments_lexer": "ipython3"
  }
 },
 "nbformat": 4,
 "nbformat_minor": 2
}
