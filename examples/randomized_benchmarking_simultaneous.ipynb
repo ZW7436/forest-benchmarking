{
 "cells": [
  {
   "cell_type": "markdown",
   "metadata": {},
   "source": [
    "# Randomized Benchmarking: Simultaneous RB"
   ]
  },
  {
   "cell_type": "code",
   "execution_count": null,
   "metadata": {},
   "outputs": [],
   "source": [
    "# Needs in terminal:\n",
    "# $ quilc -S\n",
    "# $ qvm -S\n",
    "\n",
    "import numpy as np\n",
    "\n",
    "from pyquil.api import get_benchmarker\n",
    "from forest.benchmarking.randomized_benchmarking import *\n",
    "from forest.benchmarking.stratified_experiment import *\n",
    "\n",
    "%matplotlib inline"
   ]
  },
  {
   "cell_type": "code",
   "execution_count": null,
   "metadata": {},
   "outputs": [],
   "source": [
    "from pyquil.api import get_qc, get_benchmarker\n",
    "qc = get_qc(\"9q-square-noisy-qvm\")\n",
    "bm = get_benchmarker()"
   ]
  },
  {
   "cell_type": "markdown",
   "metadata": {},
   "source": [
    "# Run RB experiments"
   ]
  },
  {
   "cell_type": "markdown",
   "metadata": {},
   "source": [
    "## 1) Generate two RB experiments"
   ]
  },
  {
   "cell_type": "code",
   "execution_count": null,
   "metadata": {},
   "outputs": [],
   "source": [
    "num_sequences = 10\n",
    "depths = 3 * 2 ** np.arange(3, dtype=np.uint8)\n",
    "\n",
    "expt = generate_rb_experiment(bm, (0, 5), depths, num_sequences)\n",
    "expt2 = generate_rb_experiment(bm, [1], depths, num_sequences)\n",
    "print(expt)"
   ]
  },
  {
   "cell_type": "markdown",
   "metadata": {},
   "source": [
    "## 2) Run a single experiment on a QuantumComputer"
   ]
  },
  {
   "cell_type": "code",
   "execution_count": null,
   "metadata": {},
   "outputs": [],
   "source": [
    "expt_results = acquire_rb_data(qc, expt, num_shots=100)"
   ]
  },
  {
   "cell_type": "code",
   "execution_count": null,
   "metadata": {},
   "outputs": [],
   "source": [
    "expt_results[0]"
   ]
  },
  {
   "cell_type": "markdown",
   "metadata": {},
   "source": [
    "## Run a simultaneous rb experiment on qubits 1 and 5"
   ]
  },
  {
   "cell_type": "code",
   "execution_count": null,
   "metadata": {},
   "outputs": [],
   "source": [
    "simult_results = acquire_rb_data(qc, [expt, expt2], num_shots=100)"
   ]
  },
  {
   "cell_type": "markdown",
   "metadata": {},
   "source": [
    "## 3) Fit the data"
   ]
  },
  {
   "cell_type": "code",
   "execution_count": null,
   "metadata": {},
   "outputs": [],
   "source": [
    "from forest.benchmarking.analysis.fitting import make_figure\n",
    "\n",
    "fit = fit_rb_results(simult_results[0])\n",
    "fig, axs = make_figure(fit, xlabel=\"Sequence Length [Cliffords]\", ylabel=\"Survival Probability\")\n",
    "rb_decay = fit.params['decay']"
   ]
  },
  {
   "cell_type": "code",
   "execution_count": null,
   "metadata": {},
   "outputs": [],
   "source": [
    "fit = fit_rb_results(simult_results[1])\n",
    "fig, axs = make_figure(fit, xlabel=\"Sequence Length [Cliffords]\", ylabel=\"Survival Probability\")\n",
    "rb_decay = fit.params['decay'].value"
   ]
  },
  {
   "cell_type": "markdown",
   "metadata": {},
   "source": [
    "## simultaneous unitarity"
   ]
  },
  {
   "cell_type": "code",
   "execution_count": null,
   "metadata": {},
   "outputs": [],
   "source": [
    "num_sequences = 10\n",
    "depths = 3 * 2 ** np.arange(3, dtype=np.uint8)\n",
    "\n",
    "uexpt = generate_unitarity_experiment(bm, [5], depths, num_sequences, use_self_inv_seqs = True)\n",
    "uexpt2 = generate_unitarity_experiment(bm, [1], depths, num_sequences)\n",
    "simult_u_results = acquire_unitarity_data(qc, [uexpt, uexpt2], num_shots=100)"
   ]
  },
  {
   "cell_type": "code",
   "execution_count": null,
   "metadata": {},
   "outputs": [],
   "source": [
    "from forest.benchmarking.analysis.fitting import make_figure\n",
    "\n",
    "fit = fit_unitarity_results(simult_u_results[0])\n",
    "fig, axs = make_figure(fit, xlabel=\"Sequence Length [Cliffords]\", ylabel=\"Shifted Purity\")\n",
    "unitarity = fit.params['unitarity'].value"
   ]
  },
  {
   "cell_type": "code",
   "execution_count": null,
   "metadata": {},
   "outputs": [],
   "source": [
    "fit = fit_unitarity_results(simult_u_results[1])\n",
    "fig, axs = make_figure(fit, xlabel=\"Sequence Length [Cliffords]\", ylabel=\"Shifted Purity\")\n",
    "unitarity = fit.params['unitarity'].value"
   ]
  },
  {
   "cell_type": "markdown",
   "metadata": {},
   "source": [
    "A unitarity experiment with self-inverting sequences can be treated as an rb experiment"
   ]
  },
  {
   "cell_type": "code",
   "execution_count": null,
   "metadata": {},
   "outputs": [],
   "source": [
    "populate_rb_survival_statistics(simult_u_results[0])\n",
    "fit = fit_rb_results(simult_u_results[0])\n",
    "fig, axs = make_figure(fit, xlabel=\"Sequence Length [Cliffords]\", ylabel=\"Survival Probability\")\n",
    "rb_decay = fit.params['decay'].value"
   ]
  },
  {
   "cell_type": "code",
   "execution_count": null,
   "metadata": {},
   "outputs": [],
   "source": []
  }
 ],
 "metadata": {
  "language_info": {
   "name": "python",
   "pygments_lexer": "ipython3"
  }
 },
 "nbformat": 4,
 "nbformat_minor": 2
}
