{
 "cells": [
  {
   "cell_type": "markdown",
   "metadata": {},
   "source": [
    "# Qubit spectroscopy: $T_1$ measurement example\n",
    "\n",
    "This notebook demonstrates how to assess the decoherence time, $T_1$, of one or more qubits on a real quantum device using pyQuil. A $T_1$ experiment consists of an X pulse, bringing the qubit from $|0\\rangle$ to $|1\\rangle$ (the excited state of the artifical atom), followed by a delay of variable duration. \n",
    "\n",
    "The physics of the devices is such that We expect the state to decay exponentially with increasing time because of [\"energy relaxation\"](https://en.wikipedia.org/wiki/Relaxation_(NMR)). We characterize this decay by the time decay constant, which we call $\\Gamma =1/T_1$. The parameter $T_1$ is refered to as the qubit's \"relaxation\" or \"decoherence\" time. A sample QUIL program at one data point (specified by the duration of the DELAY pragma) for qubit 0 with a 10us wait would look like \n",
    "\n",
    "    DECLARE ro BIT[1]\n",
    "    RX(pi) 0\n",
    "    PRAGMA DELAY 0 \"1e-05\"\n",
    "    MEASURE 0 ro[0]\n",
    "\n",
    "**NB: Since decoherence and dephasing noise are only simulated on gates, and we make use of DELAY pragmas to simulate relaxation time, we cannot simulate decoherence on the QPU with this experiment as written. This notebook should only be run on a real quantum device.**"
   ]
  },
  {
   "cell_type": "markdown",
   "metadata": {},
   "source": [
    "## setup - imports and relevant units"
   ]
  },
  {
   "cell_type": "code",
   "execution_count": 1,
   "metadata": {},
   "outputs": [],
   "source": [
    "import pandas as pd\n",
    "from matplotlib import pyplot as plt\n",
    "from pyquil.api import get_qc, QuantumComputer\n",
    "\n",
    "from forest_benchmarking.qubit_spectroscopy import (\n",
    "    generate_t1_experiments,\n",
    "    acquire_data_t1,\n",
    "    fit_t1,\n",
    "    plot_t1_fit_over_data)"
   ]
  },
  {
   "cell_type": "markdown",
   "metadata": {},
   "source": [
    "We treat SI base units, such as the second, as dimensionless, unit quantities, so we define relative units, such as the microsecond, using scientific notation. "
   ]
  },
  {
   "cell_type": "code",
   "execution_count": 2,
   "metadata": {},
   "outputs": [],
   "source": [
    "MICROSECOND = 1e-6"
   ]
  },
  {
   "cell_type": "markdown",
   "metadata": {},
   "source": [
    "## measurement, analysis, and plotting"
   ]
  },
  {
   "cell_type": "markdown",
   "metadata": {},
   "source": [
    "This method takes a `pandas.DataFrame` object with all the $T_1$ data, including the times and qubits measured and the resulting decay at each data point, and plots the decay of each qubit with respect to increasing delay duration. It also fits to an exponential decay curve, evaluates the fitted time decay constant, $T_1$, for each qubit, and plots the fitted curve on top of the experimental data so that a user can assess the fit if so desired. "
   ]
  },
  {
   "cell_type": "code",
   "execution_count": 3,
   "metadata": {},
   "outputs": [],
   "source": [
    "# qc = get_qc('Aspen-1-3Q-A')\n",
    "qc = get_qc('2q-noisy-qvm') # will run on a QVM, but not meaningfully \n",
    "qubits = qc.qubits()\n"
   ]
  },
  {
   "cell_type": "markdown",
   "metadata": {},
   "source": [
    "**Generate simultaneous $T_1$ experiments**\n",
    "\n",
    "We can specify which qubits we want to measure using `qubits` and the maximum delay we'll use for each using `stop_time`. "
   ]
  },
  {
   "cell_type": "code",
   "execution_count": 4,
   "metadata": {},
   "outputs": [],
   "source": [
    "stop_time = 60 * MICROSECOND\n",
    "num_shots = 1000\n",
    "num_points = 15\n",
    "qubits = [0,1,2]\n",
    "t1_exp = generate_t1_experiments(qubits, stop_time, num_shots, num_points)"
   ]
  },
  {
   "cell_type": "code",
   "execution_count": 5,
   "metadata": {},
   "outputs": [
    {
     "data": {
      "text/plain": [
       "[(0.0, <pyquil.quil.Program at 0x1226caf60>),\n",
       " (4.3e-06, <pyquil.quil.Program at 0x1226cafd0>),\n",
       " (8.6e-06, <pyquil.quil.Program at 0x1226dd518>),\n",
       " (1.29e-05, <pyquil.quil.Program at 0x1226dda20>),\n",
       " (1.71e-05, <pyquil.quil.Program at 0x1226ddf28>),\n",
       " (2.14e-05, <pyquil.quil.Program at 0x1226e03c8>),\n",
       " (2.57e-05, <pyquil.quil.Program at 0x1226e0828>),\n",
       " (3e-05, <pyquil.quil.Program at 0x1226e0c88>),\n",
       " (3.43e-05, <pyquil.quil.Program at 0x1226e5128>),\n",
       " (3.86e-05, <pyquil.quil.Program at 0x1226e5630>),\n",
       " (4.29e-05, <pyquil.quil.Program at 0x1226e5a90>),\n",
       " (4.71e-05, <pyquil.quil.Program at 0x1226e5ef0>),\n",
       " (5.14e-05, <pyquil.quil.Program at 0x1226ea390>),\n",
       " (5.57e-05, <pyquil.quil.Program at 0x1226ea7f0>),\n",
       " (6e-05, <pyquil.quil.Program at 0x1226eac50>)]"
      ]
     },
     "execution_count": 5,
     "metadata": {},
     "output_type": "execute_result"
    }
   ],
   "source": [
    "t1_exp"
   ]
  },
  {
   "cell_type": "markdown",
   "metadata": {},
   "source": [
    "**Acquire data**\n",
    "\n",
    "Collect our $T_1$ raw data using `acquire_data_t1`. "
   ]
  },
  {
   "cell_type": "code",
   "execution_count": 6,
   "metadata": {},
   "outputs": [],
   "source": [
    "results = acquire_data_t1(qc,t1_exp)"
   ]
  },
  {
   "cell_type": "markdown",
   "metadata": {},
   "source": [
    "**Use the results to produce estimates of $T_1$**"
   ]
  },
  {
   "cell_type": "code",
   "execution_count": 7,
   "metadata": {},
   "outputs": [
    {
     "name": "stdout",
     "output_type": "stream",
     "text": [
      "Could not fit to experimental data for qubit 2\n"
     ]
    },
    {
     "data": {
      "text/plain": [
       "[{'qubit': 0,\n",
       "  'T1': 212152.99741038436,\n",
       "  'fit_params': array([ 9.10807892e-01,  2.12152997e-01, -1.89353178e-04]),\n",
       "  'fit_params_errs': array([511.75475281,   6.16868706, 119.20113503]),\n",
       "  'message': None},\n",
       " {'qubit': 1,\n",
       "  'T1': 6677.964308942798,\n",
       "  'fit_params': array([ 9.21027081e-01,  6.67796431e-03, -3.77528827e-05]),\n",
       "  'fit_params_errs': array([4.49154135e+03, 8.13227571e-03, 3.25610051e+01]),\n",
       "  'message': None},\n",
       " {'qubit': 2,\n",
       "  'T1': None,\n",
       "  'fit_params': None,\n",
       "  'fit_params_errs': None,\n",
       "  'message': 'Could not fit to experimental data for qubit2'}]"
      ]
     },
     "execution_count": 7,
     "metadata": {},
     "output_type": "execute_result"
    }
   ],
   "source": [
    "fit_t1(results)"
   ]
  },
  {
   "cell_type": "code",
   "execution_count": 11,
   "metadata": {},
   "outputs": [
    {
     "ename": "NameError",
     "evalue": "name 'plt' is not defined",
     "output_type": "error",
     "traceback": [
      "\u001b[0;31m---------------------------------------------------------------------------\u001b[0m",
      "\u001b[0;31mNameError\u001b[0m                                 Traceback (most recent call last)",
      "\u001b[0;32m<ipython-input-11-4173abd6824b>\u001b[0m in \u001b[0;36m<module>\u001b[0;34m()\u001b[0m\n\u001b[0;32m----> 1\u001b[0;31m \u001b[0mplot_t1_fit_over_data\u001b[0m\u001b[0;34m(\u001b[0m\u001b[0mresults\u001b[0m\u001b[0;34m)\u001b[0m\u001b[0;34m\u001b[0m\u001b[0m\n\u001b[0m",
      "\u001b[0;32m~/forest-benchmarking/forest_benchmarking/qubit_spectroscopy.py\u001b[0m in \u001b[0;36mplot_t1_fit_over_data\u001b[0;34m(df, qubits, filename)\u001b[0m\n\u001b[1;32m    156\u001b[0m         \u001b[0my_data\u001b[0m \u001b[0;34m=\u001b[0m \u001b[0mdf2\u001b[0m\u001b[0;34m[\u001b[0m\u001b[0;34m'avg'\u001b[0m\u001b[0;34m]\u001b[0m\u001b[0;34m\u001b[0m\u001b[0m\n\u001b[1;32m    157\u001b[0m \u001b[0;34m\u001b[0m\u001b[0m\n\u001b[0;32m--> 158\u001b[0;31m         \u001b[0mplt\u001b[0m\u001b[0;34m.\u001b[0m\u001b[0mplot\u001b[0m\u001b[0;34m(\u001b[0m\u001b[0mx_data\u001b[0m\u001b[0;34m,\u001b[0m \u001b[0my_data\u001b[0m\u001b[0;34m,\u001b[0m \u001b[0;34m'o-'\u001b[0m\u001b[0;34m,\u001b[0m \u001b[0mlabel\u001b[0m\u001b[0;34m=\u001b[0m\u001b[0;34mf\"QC{q} T1 data\"\u001b[0m\u001b[0;34m)\u001b[0m\u001b[0;34m\u001b[0m\u001b[0m\n\u001b[0m\u001b[1;32m    159\u001b[0m \u001b[0;34m\u001b[0m\u001b[0m\n\u001b[1;32m    160\u001b[0m         \u001b[0;32mtry\u001b[0m\u001b[0;34m:\u001b[0m\u001b[0;34m\u001b[0m\u001b[0m\n",
      "\u001b[0;31mNameError\u001b[0m: name 'plt' is not defined"
     ]
    }
   ],
   "source": [
    "plot_t1_fit_over_data(results)"
   ]
  },
  {
   "cell_type": "markdown",
   "metadata": {},
   "source": [
    "Now we can use the above plotting method to measure $T_1$ on our lattice, `Aspen-1-3Q-A`. "
   ]
  },
  {
   "cell_type": "code",
   "execution_count": null,
   "metadata": {},
   "outputs": [],
   "source": [
    "plot_fitted_exponential_decay_curve_over_data(df, filename=f't1.{qc.name}.png')"
   ]
  },
  {
   "cell_type": "code",
   "execution_count": 4,
   "metadata": {},
   "outputs": [
    {
     "data": {
      "text/plain": [
       "'Could not fit to experimental data for QC1'"
      ]
     },
     "execution_count": 4,
     "metadata": {},
     "output_type": "execute_result"
    }
   ],
   "source": [
    "q = 1\n",
    "'Could not fit to experimental data for qubit' + str(q)"
   ]
  },
  {
   "cell_type": "code",
   "execution_count": 9,
   "metadata": {},
   "outputs": [],
   "source": [
    "df = pd.DataFrame({'qbit':[1,2,3]})"
   ]
  },
  {
   "cell_type": "code",
   "execution_count": 23,
   "metadata": {},
   "outputs": [
    {
     "name": "stdout",
     "output_type": "stream",
     "text": [
      "1\n",
      "3\n"
     ]
    },
    {
     "ename": "ValueError",
     "evalue": "The list of qubits does not match the ones you experimented on.",
     "output_type": "error",
     "traceback": [
      "\u001b[0;31m---------------------------------------------------------------------------\u001b[0m",
      "\u001b[0;31mValueError\u001b[0m                                Traceback (most recent call last)",
      "\u001b[0;32m<ipython-input-23-034ec71a7c04>\u001b[0m in \u001b[0;36m<module>\u001b[0;34m()\u001b[0m\n\u001b[1;32m      3\u001b[0m \u001b[0;32mfor\u001b[0m \u001b[0mqbx\u001b[0m \u001b[0;32min\u001b[0m \u001b[0mqbits\u001b[0m\u001b[0;34m:\u001b[0m\u001b[0;34m\u001b[0m\u001b[0m\n\u001b[1;32m      4\u001b[0m     \u001b[0;32mif\u001b[0m \u001b[0mqbx\u001b[0m \u001b[0;32mnot\u001b[0m \u001b[0;32min\u001b[0m \u001b[0mdf\u001b[0m\u001b[0;34m[\u001b[0m\u001b[0;34m'qbit'\u001b[0m\u001b[0;34m]\u001b[0m\u001b[0;34m.\u001b[0m\u001b[0munique\u001b[0m\u001b[0;34m(\u001b[0m\u001b[0;34m)\u001b[0m\u001b[0;34m:\u001b[0m\u001b[0;34m\u001b[0m\u001b[0m\n\u001b[0;32m----> 5\u001b[0;31m         \u001b[0;32mraise\u001b[0m \u001b[0mValueError\u001b[0m\u001b[0;34m(\u001b[0m\u001b[0;34m\"The list of qubits does not match the ones you experimented on.\"\u001b[0m\u001b[0;34m)\u001b[0m\u001b[0;34m\u001b[0m\u001b[0m\n\u001b[0m\u001b[1;32m      6\u001b[0m     \u001b[0mprint\u001b[0m\u001b[0;34m(\u001b[0m\u001b[0mqbx\u001b[0m\u001b[0;34m)\u001b[0m\u001b[0;34m\u001b[0m\u001b[0m\n",
      "\u001b[0;31mValueError\u001b[0m: The list of qubits does not match the ones you experimented on."
     ]
    }
   ],
   "source": [
    "qbits = [1,3,4] \n",
    "\n",
    "for qbx in qbits:    \n",
    "    if qbx not in df['qbit'].unique():\n",
    "        raise ValueError(\"The list of qubits does not match the ones you experimented on.\")\n",
    "    print(qbx)\n"
   ]
  },
  {
   "cell_type": "code",
   "execution_count": 26,
   "metadata": {},
   "outputs": [
    {
     "data": {
      "text/plain": [
       "[1, 2, 3]"
      ]
     },
     "execution_count": 26,
     "metadata": {},
     "output_type": "execute_result"
    }
   ],
   "source": [
    "df['qbit'].unique().tolist()"
   ]
  },
  {
   "cell_type": "code",
   "execution_count": null,
   "metadata": {},
   "outputs": [],
   "source": []
  }
 ],
 "metadata": {
  "kernelspec": {
   "display_name": "Python 3",
   "language": "python",
   "name": "python3"
  },
  "language_info": {
   "codemirror_mode": {
    "name": "ipython",
    "version": 3
   },
   "file_extension": ".py",
   "mimetype": "text/x-python",
   "name": "python",
   "nbconvert_exporter": "python",
   "pygments_lexer": "ipython3",
   "version": "3.6.3"
  }
 },
 "nbformat": 4,
 "nbformat_minor": 2
}
