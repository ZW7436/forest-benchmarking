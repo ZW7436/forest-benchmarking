{
 "cells": [
  {
   "cell_type": "markdown",
   "metadata": {},
   "source": [
    "# Randomized Benchmarking: Unitarity RB"
   ]
  },
  {
   "cell_type": "code",
   "execution_count": null,
   "metadata": {},
   "outputs": [],
   "source": [
    "# See rb_functions in examples folder for related usage\n",
    "# Needs in terminal:\n",
    "# $ quilc -S\n",
    "# $ qvm -S\n",
    "\n",
    "from forest.benchmarking.analysis.fitting import make_figure\n",
    "from forest.benchmarking.randomized_benchmarking import *\n",
    "from forest.benchmarking.stratified_experiment import StratifiedExperiment\n",
    "from pyquil.api import get_benchmarker\n",
    "import numpy as np\n",
    "from typing import List, Tuple, Callable\n",
    "from pandas import DataFrame, Series\n",
    "from pyquil import Program, get_qc\n",
    "from pyquil import noise"
   ]
  },
  {
   "cell_type": "markdown",
   "metadata": {},
   "source": [
    "# Add functionality to inject understandable error into RB sequence"
   ]
  },
  {
   "cell_type": "code",
   "execution_count": null,
   "metadata": {},
   "outputs": [],
   "source": [
    "# similar methods found in tests/test_rb.py\n",
    "def insert_noise(programs: List[Program], qubits: Tuple, noise: Callable, *noise_args):\n",
    "    \"\"\"\n",
    "    Append noise channel to the end of each program in programs. This noise channel is implemented as a single noisy gate\n",
    "    acting on the provided qubits.\n",
    "    \n",
    "    :param list|program programs: A list of programs (i.e. a Clifford gate) onto each of which will be appended noise.\n",
    "    :param Tuple qubits: A tuple of the qubits on which each noisy gate should act.\n",
    "    :param noise: A function which generates the kraus operators of the desired noise.\n",
    "    :param noise_args: Additional parameters passed on to the noise function.\n",
    "    \"\"\"\n",
    "    for program in programs:\n",
    "        program.defgate(\"noise\", np.eye(2**len(qubits)))\n",
    "        program.define_noisy_gate(\"noise\", qubits, noise(*noise_args))\n",
    "        program.inst((\"noise\", *qubits))\n",
    "        \n",
    "def add_noise_to_sequences(expt: StratifiedExperiment, qubits, noise: Callable, *noise_args):\n",
    "    \"\"\"\n",
    "    Append the given noise to each clifford gate (sequence)\n",
    "    :param qubits: A tuple of the qubits on which each sequence of Cliffords acts\n",
    "    :param noise: Function which takes in a gate and appends the desired Krauss operators\n",
    "    :param noise_args: Additional parameters passed on to the noise function.\n",
    "    \"\"\"\n",
    "    for layer in expt.layers:\n",
    "        insert_noise(layer.sequence, qubits, noise, *noise_args)\n",
    "    \n",
    "def depolarizing_noise(num_qubits: int, p: float =.95):\n",
    "    \"\"\"\n",
    "    Generate the Kraus operators corresponding to a given unitary\n",
    "    single qubit gate followed by a depolarizing noise channel.\n",
    "\n",
    "    :params float num_qubits: either 1 or 2 qubit channel supported\n",
    "    :params float p: parameter in depolarizing channel as defined by: p $\\rho$ + (1-p)/d I\n",
    "    :return: A list, eg. [k0, k1, k2, k3], of the Kraus operators that parametrize the map.\n",
    "    :rtype: list\n",
    "    \"\"\"\n",
    "    num_of_operators = 4**num_qubits\n",
    "    probabilities = [p+(1.0-p)/num_of_operators] + [(1.0 - p)/num_of_operators]*(num_of_operators-1)\n",
    "    return noise.pauli_kraus_map(probabilities)\n",
    "\n",
    "bm = get_benchmarker()\n",
    "# establish a connection to a quantum device (in this case virtual)\n",
    "qc = get_qc(\"9q-square-qvm\")"
   ]
  },
  {
   "cell_type": "markdown",
   "metadata": {},
   "source": [
    "# Run unitarity RB (This is SLOW)"
   ]
  },
  {
   "cell_type": "code",
   "execution_count": null,
   "metadata": {},
   "outputs": [],
   "source": [
    "single_clifford_p = .95 #p parameter for the depolarizing channel applied to each clifford\n",
    "num_sequences_per_depth = 50\n",
    "num_shots = 25\n",
    "depths = 2 * 2 ** np.arange(4, dtype=np.uint8) # depth = number of cliffords in a sequence\n",
    "qubits = (0,) # (0,1) for two qubit\n",
    "\n",
    "expt = generate_unitarity_experiment(bm, qubits, depths, num_sequences_per_depth)\n",
    "\n",
    "# artificially insert noise on each clifford for simulation purposes\n",
    "add_noise_to_sequences(expt, qubits, depolarizing_noise, len(qubits), single_clifford_p)\n",
    "\n",
    "# run num_shots indepedent measurements on the qc \n",
    "# for each sequence in the dataframe\n",
    "# calculate and store purity statistics in the measurement results\n",
    "results = acquire_unitarity_data(qc, [expt], num_shots)\n",
    "\n",
    "# fit a model for the first (and only) result StratifiedExperiment\n",
    "fit = fit_unitarity_results(results[0])\n",
    "\n",
    "# plot the raw data, point estimate error bars, and fit\n",
    "fig, axs = make_figure(fit, xlabel=\"Sequence Length [Cliffords]\", ylabel=\"Shifted Purity\")"
   ]
  },
  {
   "cell_type": "code",
   "execution_count": null,
   "metadata": {},
   "outputs": [],
   "source": [
    "unitarity = fit.params['decay'].value\n",
    "print(unitarity)\n",
    "err = fit.params['decay'].stderr\n",
    "print(err)"
   ]
  },
  {
   "cell_type": "code",
   "execution_count": null,
   "metadata": {},
   "outputs": [],
   "source": [
    "from forest.benchmarking.randomized_benchmarking import unitarity_to_rb_decay\n",
    "# Since noise is depolarizing, we expect this value to match the \n",
    "# input noise parameter single_clifford_p = .95 \n",
    "print(unitarity_to_rb_decay(unitarity, 2))\n",
    "print(unitarity_to_rb_decay(unitarity-err, 2))\n",
    "print(unitarity_to_rb_decay(unitarity+err, 2))"
   ]
  }
 ],
 "metadata": {
  "language_info": {
   "name": "python",
   "pygments_lexer": "ipython3"
  }
 },
 "nbformat": 4,
 "nbformat_minor": 2
}
