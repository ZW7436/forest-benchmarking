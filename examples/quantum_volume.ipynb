{
 "cells": [
  {
   "cell_type": "code",
   "execution_count": 2,
   "metadata": {},
   "outputs": [
    {
     "name": "stdout",
     "output_type": "stream",
     "text": [
      "[0, 1, 2, 3]\n"
     ]
    },
    {
     "data": {
      "image/png": "[encoded data removed]",
      "text/plain": [
       "<matplotlib.figure.Figure at 0x7f4925562198>"
      ]
     },
     "metadata": {},
     "output_type": "display_data"
    }
   ],
   "source": [
    "import numpy as np\n",
    "import networkx as nx\n",
    "import matplotlib.pyplot as plt\n",
    "%matplotlib inline\n",
    "\n",
    "from pyquil.api import get_qc\n",
    "\n",
    "# ideal_qc = get_qc('4q-qvm', noisy=False)\n",
    "noisy_qc = get_qc(\"Aspen-3-7Q-A\")\n",
    "\n",
    "qubits = noisy_qc.qubits()\n",
    "print(qubits)\n",
    "graph = noisy_qc.qubit_topology()\n",
    "nx.draw_networkx(graph, with_labels=True)"
   ]
  },
  {
   "cell_type": "markdown",
   "metadata": {},
   "source": [
    "## Import and setup logging for info on progress."
   ]
  },
  {
   "cell_type": "code",
   "execution_count": 3,
   "metadata": {},
   "outputs": [],
   "source": [
    "from forest_benchmarking.quantum_volume import *\n",
    "\n",
    "import logging\n",
    "logger = logging.getLogger()\n",
    "logger.setLevel(logging.INFO)\n",
    "show_progress_bar = True\n",
    "\n",
    "from time import time"
   ]
  },
  {
   "cell_type": "code",
   "execution_count": 4,
   "metadata": {},
   "outputs": [
    {
     "name": "stdout",
     "output_type": "stream",
     "text": [
      "135.61787796020508\n",
      "0.501314640045166\n",
      "136.28105354309082\n",
      "{2: (0.7984, 0.7520739900271997), 3: (0.8514666666666667, 0.8104022973225549)}\n"
     ]
    }
   ],
   "source": [
    "start = time()\n",
    "df = quantum_volume_dataframe(qubits=[1,2,3], num_circuits=300, depths=[2,3])\n",
    "df = add_circuits_to_dataframe(df)\n",
    "df, data_acq_time = acquire_qv_data(df, ideal_qc, num_shots=500, use_active_reset=False)\n",
    "print(data_acq_time)\n",
    "final_df1, total_sim_time = acquire_heavy_hitters(df)\n",
    "print(total_sim_time)\n",
    "end = time()\n",
    "print(end - start)\n",
    "\n",
    "probs_and_errors = get_results_by_depth(final_df1)\n",
    "print(probs_and_errors)"
   ]
  },
  {
   "cell_type": "code",
   "execution_count": 4,
   "metadata": {},
   "outputs": [
    {
     "name": "stdout",
     "output_type": "stream",
     "text": [
      "138.66465878486633\n",
      "0.5087440013885498\n",
      "139.33286547660828\n",
      "{2: (0.5044533333333333, 0.4467205964824244), 3: (0.84524, 0.8034772825916064)}\n"
     ]
    }
   ],
   "source": [
    "start = time()\n",
    "df = quantum_volume_dataframe(qubits=[1,2,3], num_circuits=300, depths=[2,3])\n",
    "df = add_circuits_to_dataframe(df)\n",
    "df, data_acq_time = acquire_qv_data(df, noisy_qc, num_shots=500, use_active_reset=True)\n",
    "print(data_acq_time)\n",
    "final_df2, total_sim_time = acquire_heavy_hitters(df)\n",
    "print(total_sim_time)\n",
    "end = time()\n",
    "print(end - start)\n",
    "\n",
    "probs_and_errors = get_results_by_depth(final_df2)\n",
    "print(probs_and_errors)"
   ]
  },
  {
   "cell_type": "code",
   "execution_count": null,
   "metadata": {},
   "outputs": [],
   "source": []
  },
  {
   "cell_type": "code",
   "execution_count": null,
   "metadata": {},
   "outputs": [],
   "source": []
  },
  {
   "cell_type": "code",
   "execution_count": null,
   "metadata": {},
   "outputs": [],
   "source": []
  },
  {
   "cell_type": "code",
   "execution_count": null,
   "metadata": {},
   "outputs": [],
   "source": []
  },
  {
   "cell_type": "code",
   "execution_count": 18,
   "metadata": {},
   "outputs": [],
   "source": [
    "df = quantum_volume_dataframe(qubits=[1, 2, 3], num_circuits=200, depths=[2,3])"
   ]
  },
  {
   "cell_type": "code",
   "execution_count": 19,
   "metadata": {},
   "outputs": [],
   "source": [
    "df = add_circuits_to_dataframe(df)"
   ]
  },
  {
   "cell_type": "code",
   "execution_count": 20,
   "metadata": {},
   "outputs": [
    {
     "name": "stdout",
     "output_type": "stream",
     "text": [
      "102.20563054084778\n"
     ]
    }
   ],
   "source": [
    "df, data_acq_time = acquire_qv_data(df, noisy_qc, num_shots=100, use_active_reset = False)\n",
    "print(data_acq_time)"
   ]
  },
  {
   "cell_type": "code",
   "execution_count": 21,
   "metadata": {},
   "outputs": [
    {
     "name": "stdout",
     "output_type": "stream",
     "text": [
      "0.11663532257080078\n"
     ]
    }
   ],
   "source": [
    "df, total_sim_time = acquire_heavy_hitters(df)\n",
    "print(total_sim_time)"
   ]
  },
  {
   "cell_type": "code",
   "execution_count": 22,
   "metadata": {
    "scrolled": true
   },
   "outputs": [
    {
     "name": "stdout",
     "output_type": "stream",
     "text": [
      "{2: (0.54015, 0.4696676649790886), 3: (0.7777, 0.7188981785996386)}\n"
     ]
    }
   ],
   "source": [
    "prob_and_errors = get_results_by_depth(df)\n",
    "print(prob_and_errors)"
   ]
  },
  {
   "cell_type": "code",
   "execution_count": 23,
   "metadata": {},
   "outputs": [
    {
     "name": "stdout",
     "output_type": "stream",
     "text": [
      "        Qubits  Depth                                            Circuit  \\\n",
      "0       {1, 2}      2  ([[1, 0], [1, 0]], [[[[ 0.08354564-0.55237344j...   \n",
      "1       {1, 2}      2  ([[1, 0], [1, 0]], [[[[ 0.45098557-0.19330812j...   \n",
      "2       {1, 2}      2  ([[0, 1], [1, 0]], [[[[ 0.18817431-0.35541579j...   \n",
      "3       {1, 2}      2  ([[0, 1], [0, 1]], [[[[-0.30056824+0.09468738j...   \n",
      "4       {1, 2}      2  ([[1, 0], [1, 0]], [[[[ 0.01248778+0.58819779j...   \n",
      "5       {1, 2}      2  ([[1, 0], [0, 1]], [[[[-0.04556996-0.04822739j...   \n",
      "6       {1, 2}      2  ([[0, 1], [1, 0]], [[[[-0.12018575-0.53868308j...   \n",
      "7       {1, 2}      2  ([[1, 0], [0, 1]], [[[[ 0.0343568 -0.20436334j...   \n",
      "8       {1, 2}      2  ([[1, 0], [0, 1]], [[[[ 0.42441048+0.28562384j...   \n",
      "9       {1, 2}      2  ([[0, 1], [1, 0]], [[[[-0.21779237-0.33540124j...   \n",
      "10      {1, 2}      2  ([[1, 0], [1, 0]], [[[[ 0.21324399+0.14784112j...   \n",
      "11      {1, 2}      2  ([[0, 1], [1, 0]], [[[[-0.40989358-0.53365489j...   \n",
      "12      {1, 2}      2  ([[1, 0], [1, 0]], [[[[-0.56473235+0.31100909j...   \n",
      "13      {1, 2}      2  ([[1, 0], [0, 1]], [[[[-0.11473532+0.70659771j...   \n",
      "14      {1, 2}      2  ([[1, 0], [0, 1]], [[[[-0.384001  -0.23145849j...   \n",
      "15      {1, 2}      2  ([[0, 1], [1, 0]], [[[[ 0.45945426+0.55874572j...   \n",
      "16      {1, 2}      2  ([[0, 1], [0, 1]], [[[[ 0.10240352+0.14057013j...   \n",
      "17      {1, 2}      2  ([[0, 1], [0, 1]], [[[[ 0.27378459+0.39529079j...   \n",
      "18      {1, 2}      2  ([[1, 0], [1, 0]], [[[[ 0.69048299+0.01094889j...   \n",
      "19      {1, 2}      2  ([[0, 1], [1, 0]], [[[[-4.62333395e-02-0.34586...   \n",
      "20      {1, 2}      2  ([[0, 1], [0, 1]], [[[[-0.36045097+0.54366714j...   \n",
      "21      {1, 2}      2  ([[1, 0], [0, 1]], [[[[ 0.50184681+0.1789568j ...   \n",
      "22      {1, 2}      2  ([[0, 1], [1, 0]], [[[[-0.24340445+0.54794529j...   \n",
      "23      {1, 2}      2  ([[1, 0], [0, 1]], [[[[ 0.09083408-0.52767336j...   \n",
      "24      {1, 2}      2  ([[0, 1], [0, 1]], [[[[ 0.32536565+0.14520539j...   \n",
      "25      {1, 2}      2  ([[1, 0], [1, 0]], [[[[ 0.20546105-0.33535614j...   \n",
      "26      {1, 2}      2  ([[1, 0], [1, 0]], [[[[ 0.29290167+0.10086655j...   \n",
      "27      {1, 2}      2  ([[1, 0], [0, 1]], [[[[-0.09084294-0.52597991j...   \n",
      "28      {1, 2}      2  ([[1, 0], [1, 0]], [[[[-0.01998412+0.02629819j...   \n",
      "29      {1, 2}      2  ([[1, 0], [1, 0]], [[[[ 0.20894039-0.65290347j...   \n",
      "..         ...    ...                                                ...   \n",
      "370  {1, 2, 3}      3  ([[1, 0, 2], [0, 2, 1], [1, 0, 2]], [[[[-0.230...   \n",
      "371  {1, 2, 3}      3  ([[1, 2, 0], [0, 1, 2], [2, 1, 0]], [[[[ 0.048...   \n",
      "372  {1, 2, 3}      3  ([[1, 0, 2], [2, 1, 0], [1, 2, 0]], [[[[-0.039...   \n",
      "373  {1, 2, 3}      3  ([[2, 1, 0], [2, 1, 0], [1, 0, 2]], [[[[-0.130...   \n",
      "374  {1, 2, 3}      3  ([[0, 1, 2], [2, 1, 0], [1, 2, 0]], [[[[-0.162...   \n",
      "375  {1, 2, 3}      3  ([[0, 2, 1], [2, 0, 1], [0, 2, 1]], [[[[-0.267...   \n",
      "376  {1, 2, 3}      3  ([[1, 0, 2], [1, 0, 2], [1, 0, 2]], [[[[-0.260...   \n",
      "377  {1, 2, 3}      3  ([[2, 1, 0], [2, 0, 1], [1, 0, 2]], [[[[ 0.120...   \n",
      "378  {1, 2, 3}      3  ([[1, 2, 0], [2, 1, 0], [2, 0, 1]], [[[[-0.593...   \n",
      "379  {1, 2, 3}      3  ([[0, 2, 1], [2, 0, 1], [2, 1, 0]], [[[[ 0.357...   \n",
      "380  {1, 2, 3}      3  ([[2, 1, 0], [1, 2, 0], [0, 1, 2]], [[[[ 0.291...   \n",
      "381  {1, 2, 3}      3  ([[1, 0, 2], [0, 1, 2], [0, 1, 2]], [[[[ 0.648...   \n",
      "382  {1, 2, 3}      3  ([[0, 1, 2], [2, 1, 0], [1, 0, 2]], [[[[-0.257...   \n",
      "383  {1, 2, 3}      3  ([[1, 2, 0], [1, 0, 2], [0, 2, 1]], [[[[-0.138...   \n",
      "384  {1, 2, 3}      3  ([[1, 0, 2], [2, 0, 1], [0, 2, 1]], [[[[ 0.437...   \n",
      "385  {1, 2, 3}      3  ([[1, 0, 2], [2, 1, 0], [1, 0, 2]], [[[[ 0.166...   \n",
      "386  {1, 2, 3}      3  ([[0, 1, 2], [2, 1, 0], [2, 0, 1]], [[[[-0.480...   \n",
      "387  {1, 2, 3}      3  ([[2, 0, 1], [1, 0, 2], [1, 0, 2]], [[[[ 0.383...   \n",
      "388  {1, 2, 3}      3  ([[2, 0, 1], [2, 0, 1], [0, 1, 2]], [[[[ 0.028...   \n",
      "389  {1, 2, 3}      3  ([[0, 2, 1], [0, 2, 1], [2, 1, 0]], [[[[-0.172...   \n",
      "390  {1, 2, 3}      3  ([[0, 2, 1], [2, 0, 1], [2, 1, 0]], [[[[ 0.173...   \n",
      "391  {1, 2, 3}      3  ([[0, 1, 2], [2, 0, 1], [2, 0, 1]], [[[[ 0.436...   \n",
      "392  {1, 2, 3}      3  ([[2, 1, 0], [2, 1, 0], [2, 0, 1]], [[[[ 0.614...   \n",
      "393  {1, 2, 3}      3  ([[1, 2, 0], [1, 0, 2], [0, 2, 1]], [[[[ 0.455...   \n",
      "394  {1, 2, 3}      3  ([[2, 0, 1], [1, 2, 0], [1, 2, 0]], [[[[ 0.239...   \n",
      "395  {1, 2, 3}      3  ([[2, 0, 1], [1, 2, 0], [2, 0, 1]], [[[[ 0.387...   \n",
      "396  {1, 2, 3}      3  ([[1, 2, 0], [2, 0, 1], [2, 1, 0]], [[[[-0.071...   \n",
      "397  {1, 2, 3}      3  ([[0, 1, 2], [0, 2, 1], [0, 1, 2]], [[[[-0.236...   \n",
      "398  {1, 2, 3}      3  ([[1, 0, 2], [0, 2, 1], [2, 0, 1]], [[[[ 0.131...   \n",
      "399  {1, 2, 3}      3  ([[1, 0, 2], [0, 1, 2], [1, 2, 0]], [[[[-0.583...   \n",
      "\n",
      "                                               Results   RunTime  \\\n",
      "0    [[0, 0], [1, 0], [1, 1], [0, 1], [0, 0], [0, 1...  0.291788   \n",
      "1    [[0, 1], [0, 1], [0, 1], [1, 0], [1, 1], [0, 1...  0.181660   \n",
      "2    [[1, 1], [1, 1], [0, 0], [1, 0], [1, 0], [1, 1...  0.180506   \n",
      "3    [[1, 0], [1, 0], [1, 0], [1, 0], [1, 0], [1, 1...  0.177028   \n",
      "4    [[0, 0], [0, 0], [1, 0], [1, 1], [0, 1], [1, 0...  0.179637   \n",
      "5    [[0, 0], [0, 0], [0, 0], [1, 1], [0, 1], [0, 1...  0.191679   \n",
      "6    [[1, 1], [0, 0], [0, 1], [0, 0], [0, 0], [1, 1...  0.250205   \n",
      "7    [[0, 0], [1, 0], [1, 0], [0, 1], [0, 0], [0, 0...  0.183192   \n",
      "8    [[0, 1], [0, 1], [1, 1], [1, 1], [0, 1], [0, 1...  0.190195   \n",
      "9    [[0, 1], [0, 0], [1, 0], [0, 1], [1, 1], [0, 0...  0.178466   \n",
      "10   [[0, 0], [1, 1], [1, 1], [1, 0], [0, 0], [0, 0...  0.178089   \n",
      "11   [[0, 0], [0, 1], [0, 0], [1, 0], [0, 0], [1, 1...  0.182206   \n",
      "12   [[0, 0], [0, 0], [1, 1], [0, 0], [0, 0], [1, 1...  0.175373   \n",
      "13   [[0, 0], [1, 1], [0, 0], [1, 0], [0, 1], [0, 1...  0.185450   \n",
      "14   [[0, 0], [1, 0], [1, 0], [1, 0], [1, 0], [1, 0...  0.193900   \n",
      "15   [[1, 0], [0, 0], [0, 0], [1, 0], [1, 0], [0, 0...  0.237631   \n",
      "16   [[1, 1], [0, 0], [0, 0], [0, 0], [0, 0], [0, 0...  0.202537   \n",
      "17   [[0, 0], [1, 0], [1, 0], [1, 0], [1, 0], [1, 1...  0.180199   \n",
      "18   [[0, 0], [0, 0], [0, 0], [0, 0], [0, 0], [0, 0...  0.186573   \n",
      "19   [[1, 1], [1, 0], [0, 1], [0, 1], [0, 1], [1, 1...  0.186149   \n",
      "20   [[0, 1], [1, 1], [0, 1], [0, 1], [1, 0], [1, 1...  0.187587   \n",
      "21   [[1, 1], [1, 0], [1, 0], [1, 0], [1, 1], [1, 1...  0.185353   \n",
      "22   [[0, 1], [0, 0], [1, 1], [0, 1], [0, 1], [0, 1...  0.177998   \n",
      "23   [[1, 0], [0, 1], [1, 0], [0, 1], [1, 0], [0, 0...  0.178340   \n",
      "24   [[0, 0], [1, 0], [1, 0], [1, 0], [1, 0], [0, 0...  0.251029   \n",
      "25   [[0, 0], [0, 0], [1, 1], [1, 1], [1, 0], [0, 0...  0.186509   \n",
      "26   [[0, 0], [0, 1], [0, 1], [1, 0], [1, 0], [0, 1...  0.180358   \n",
      "27   [[0, 0], [1, 0], [0, 1], [1, 0], [1, 0], [1, 0...  0.193331   \n",
      "28   [[1, 0], [1, 0], [1, 0], [0, 0], [1, 0], [0, 0...  0.180303   \n",
      "29   [[0, 0], [0, 0], [0, 0], [0, 0], [0, 0], [0, 0...  0.185431   \n",
      "..                                                 ...       ...   \n",
      "370  [[0, 0, 1], [0, 0, 0], [0, 0, 0], [1, 0, 0], [...  0.335995   \n",
      "371  [[1, 0, 0], [0, 0, 1], [1, 1, 1], [1, 1, 0], [...  0.339910   \n",
      "372  [[1, 1, 0], [1, 0, 0], [1, 0, 0], [1, 1, 0], [...  0.336974   \n",
      "373  [[0, 1, 0], [0, 1, 1], [0, 1, 1], [0, 0, 0], [...  0.263358   \n",
      "374  [[0, 0, 0], [1, 0, 0], [1, 0, 0], [1, 1, 0], [...  0.263503   \n",
      "375  [[0, 0, 1], [1, 0, 0], [0, 0, 0], [0, 0, 0], [...  0.209372   \n",
      "376  [[0, 0, 0], [1, 0, 0], [1, 0, 0], [1, 1, 0], [...  0.207757   \n",
      "377  [[1, 0, 1], [0, 0, 0], [1, 1, 0], [0, 1, 1], [...  0.393412   \n",
      "378  [[1, 0, 0], [1, 1, 1], [1, 0, 1], [0, 1, 0], [...  0.256955   \n",
      "379  [[0, 1, 0], [0, 0, 0], [1, 1, 1], [1, 1, 1], [...  0.257491   \n",
      "380  [[1, 0, 0], [1, 0, 0], [0, 0, 0], [1, 0, 0], [...  0.263339   \n",
      "381  [[1, 1, 0], [0, 0, 0], [0, 0, 0], [1, 1, 0], [...  0.218792   \n",
      "382  [[0, 0, 1], [0, 1, 1], [0, 0, 1], [1, 1, 1], [...  0.398403   \n",
      "383  [[1, 0, 0], [0, 1, 1], [1, 0, 0], [0, 0, 1], [...  0.339747   \n",
      "384  [[0, 0, 1], [0, 0, 0], [0, 0, 0], [1, 0, 0], [...  0.257747   \n",
      "385  [[0, 0, 1], [0, 0, 1], [1, 0, 1], [1, 0, 1], [...  0.334514   \n",
      "386  [[1, 0, 1], [0, 0, 0], [1, 0, 0], [0, 1, 0], [...  0.408417   \n",
      "387  [[0, 0, 1], [0, 1, 0], [1, 0, 1], [1, 0, 1], [...  0.262085   \n",
      "388  [[0, 0, 1], [1, 1, 0], [1, 0, 0], [0, 0, 1], [...  0.258457   \n",
      "389  [[0, 0, 1], [1, 1, 1], [1, 0, 0], [0, 0, 0], [...  0.258218   \n",
      "390  [[1, 0, 1], [0, 0, 0], [0, 1, 1], [0, 0, 0], [...  0.333805   \n",
      "391  [[0, 0, 0], [1, 0, 0], [0, 1, 0], [0, 1, 1], [...  0.254135   \n",
      "392  [[0, 0, 0], [1, 0, 1], [1, 0, 0], [1, 1, 1], [...  0.265176   \n",
      "393  [[1, 0, 0], [1, 1, 1], [1, 1, 0], [0, 0, 0], [...  0.345715   \n",
      "394  [[1, 0, 1], [0, 1, 0], [0, 1, 1], [1, 1, 0], [...  0.328683   \n",
      "395  [[0, 1, 0], [1, 0, 1], [1, 1, 1], [1, 0, 0], [...  0.341782   \n",
      "396  [[1, 0, 1], [0, 0, 0], [0, 0, 0], [1, 0, 1], [...  0.346028   \n",
      "397  [[0, 1, 1], [0, 1, 1], [0, 0, 1], [0, 0, 1], [...  0.334668   \n",
      "398  [[0, 1, 1], [1, 0, 1], [0, 0, 1], [0, 0, 1], [...  0.326390   \n",
      "399  [[1, 1, 1], [0, 0, 1], [1, 0, 1], [0, 1, 0], [...  0.271829   \n",
      "\n",
      "     HeavyHitters   SimTime  NumHHSampled  \n",
      "0    [0, 2, 4, 6]  0.000490            58  \n",
      "1    [0, 2, 4, 6]  0.000204             9  \n",
      "2    [0, 2, 4, 6]  0.000164            56  \n",
      "3    [0, 2, 4, 6]  0.000153            74  \n",
      "4    [0, 2, 4, 6]  0.000189            87  \n",
      "5    [0, 2, 4, 6]  0.000180            71  \n",
      "6    [0, 2, 4, 6]  0.000220            66  \n",
      "7    [0, 2, 4, 6]  0.000212            61  \n",
      "8    [0, 2, 4, 6]  0.000268            18  \n",
      "9    [0, 2, 4, 6]  0.000309            65  \n",
      "10   [0, 2, 4, 6]  0.000788            48  \n",
      "11   [0, 2, 4, 6]  0.000212            59  \n",
      "12   [0, 2, 4, 6]  0.000213            40  \n",
      "13   [0, 2, 4, 6]  0.000188            46  \n",
      "14   [0, 2, 4, 6]  0.000189            92  \n",
      "15   [0, 2, 4, 6]  0.000207            85  \n",
      "16   [0, 2, 4, 6]  0.000196            58  \n",
      "17   [0, 2, 4, 6]  0.000184            48  \n",
      "18   [0, 2, 4, 6]  0.000189            87  \n",
      "19   [0, 2, 4, 6]  0.000324            32  \n",
      "20   [0, 2, 4, 6]  0.000194            13  \n",
      "21   [0, 2, 4, 6]  0.000194            63  \n",
      "22   [0, 2, 4, 6]  0.000204            50  \n",
      "23   [0, 2, 4, 6]  0.000238            41  \n",
      "24   [0, 2, 4, 6]  0.000196            85  \n",
      "25   [0, 2, 4, 6]  0.000204            59  \n",
      "26   [0, 2, 4, 6]  0.000153            40  \n",
      "27   [0, 2, 4, 6]  0.000118            81  \n",
      "28   [0, 2, 4, 6]  0.000135            83  \n",
      "29   [0, 2, 4, 6]  0.000189            74  \n",
      "..            ...       ...           ...  \n",
      "370  [0, 5, 6, 7]  0.000142            61  \n",
      "371  [1, 4, 6, 7]  0.000145            83  \n",
      "372  [2, 4, 6, 7]  0.000144            88  \n",
      "373  [2, 3, 4, 6]  0.000145            63  \n",
      "374  [0, 3, 4, 7]  0.000147            78  \n",
      "375  [0, 1, 4, 5]  0.000145            97  \n",
      "376  [0, 2, 4, 6]  0.000142            98  \n",
      "377  [0, 4, 5, 6]  0.000153            83  \n",
      "378  [2, 3, 5, 7]  0.000146            75  \n",
      "379  [0, 1, 3, 7]  0.000146            82  \n",
      "380  [0, 2, 4, 6]  0.000144            94  \n",
      "381  [0, 2, 4, 6]  0.000144            98  \n",
      "382  [1, 2, 4, 7]  0.000144            74  \n",
      "383  [1, 3, 4, 5]  0.000144            74  \n",
      "384  [0, 2, 4, 5]  0.000146            81  \n",
      "385  [1, 3, 5, 7]  0.000146            82  \n",
      "386  [0, 2, 6, 7]  0.000146            77  \n",
      "387  [0, 2, 3, 5]  0.000143            79  \n",
      "388  [0, 2, 4, 6]  0.000156            87  \n",
      "389  [1, 3, 4, 7]  0.000147            73  \n",
      "390  [0, 1, 3, 4]  0.000147            87  \n",
      "391  [0, 2, 3, 4]  0.000144            86  \n",
      "392  [1, 4, 5, 7]  0.000146            81  \n",
      "393  [0, 1, 2, 5]  0.000145            78  \n",
      "394  [1, 2, 3, 5]  0.000157            68  \n",
      "395  [3, 4, 5, 7]  0.000145            72  \n",
      "396  [0, 4, 5, 6]  0.000147            73  \n",
      "397  [1, 2, 3, 4]  0.000148            74  \n",
      "398  [1, 2, 5, 7]  0.000146            73  \n",
      "399  [1, 4, 6, 7]  0.000144            76  \n",
      "\n",
      "[400 rows x 8 columns]\n"
     ]
    }
   ],
   "source": [
    "print(df)"
   ]
  },
  {
   "cell_type": "code",
   "execution_count": null,
   "metadata": {},
   "outputs": [],
   "source": []
  },
  {
   "cell_type": "code",
   "execution_count": null,
   "metadata": {},
   "outputs": [],
   "source": []
  },
  {
   "cell_type": "code",
   "execution_count": null,
   "metadata": {},
   "outputs": [],
   "source": []
  },
  {
   "cell_type": "code",
   "execution_count": null,
   "metadata": {},
   "outputs": [],
   "source": []
  },
  {
   "cell_type": "markdown",
   "metadata": {},
   "source": [
    "## Replicate FIG2. of [QVol]  (See forest_qcvv.quantum_volume for ref)"
   ]
  },
  {
   "cell_type": "markdown",
   "metadata": {},
   "source": [
    "This is SLOW--it takes about 4 minutes."
   ]
  },
  {
   "cell_type": "code",
   "execution_count": 5,
   "metadata": {},
   "outputs": [
    {
     "name": "stderr",
     "output_type": "stream",
     "text": [
      "100%|██████████| 200/200 [00:39<00:00,  5.13it/s]\n",
      "100%|██████████| 200/200 [00:59<00:00,  3.36it/s]\n",
      "100%|██████████| 200/200 [02:57<00:00,  1.13it/s]"
     ]
    },
    {
     "name": "stdout",
     "output_type": "stream",
     "text": [
      "[(2, 0.794665, 0.7375383796247318, True), (3, 0.848665, 0.7979831062360531, True), (4, 0.841005, 0.7892912513493752, True)]\n"
     ]
    },
    {
     "name": "stderr",
     "output_type": "stream",
     "text": [
      "\n"
     ]
    }
   ],
   "source": [
    "ideal_outcomes = measure_quantum_volume(ideal_qc, num_circuits=200, show_progress_bar=show_progress_bar)\n",
    "print(ideal_outcomes)"
   ]
  },
  {
   "cell_type": "code",
   "execution_count": null,
   "metadata": {},
   "outputs": [],
   "source": [
    "ideal_outcomes = [(2, 0.794665, 0.7375383796247318, True), (3, 0.848665, 0.7979831062360531, True), (4, 0.841005, 0.7892912513493752, True)]"
   ]
  },
  {
   "cell_type": "markdown",
   "metadata": {},
   "source": [
    "## Now with noise"
   ]
  },
  {
   "cell_type": "markdown",
   "metadata": {},
   "source": [
    "This is SLOW--it takes about 5 minutes, even with half the number of shots from above."
   ]
  },
  {
   "cell_type": "code",
   "execution_count": null,
   "metadata": {},
   "outputs": [],
   "source": [
    "noisy_outcomes = measure_quantum_volume(noisy_qc, num_circuits=200, num_shots=500, show_progress_bar=show_progress_bar)"
   ]
  },
  {
   "cell_type": "code",
   "execution_count": null,
   "metadata": {},
   "outputs": [],
   "source": [
    "depths = np.arange(2, 5)\n",
    "ideal_probs = [val[1] for val in ideal_outcomes]\n",
    "noisy_probs = [val[1] for val in noisy_outcomes]\n",
    "\n",
    "plt.axhline(.5 + np.log(2)/2, color='b', ls='--', label='ideal asymptote')\n",
    "plt.axhline(2/3, color='black', ls=':', label='achievable threshold')\n",
    "plt.scatter(np.array(depths) - .1, ideal_probs, color='b', label='ideal simulation')\n",
    "plt.scatter(depths, noisy_probs, color='r', label='noisy simulation')\n",
    "plt.ylabel(\"est. heavy output probability h_d\")\n",
    "plt.xlabel(\"width/depth of model circuit m=d\")\n",
    "plt.ylim(.4,1.0)\n",
    "plt.xlim(1.8, 4.2)\n",
    "plt.xticks(depths)\n",
    "plt.legend(loc='lower left')\n",
    "plt.show()"
   ]
  },
  {
   "cell_type": "markdown",
   "metadata": {},
   "source": [
    "## Try a different topology"
   ]
  },
  {
   "cell_type": "code",
   "execution_count": null,
   "metadata": {},
   "outputs": [],
   "source": [
    "n = 4\n",
    "path_graph = nx.path_graph(n)\n",
    "loop_graph = nx.cycle_graph(n)\n",
    "four_pointed_star = nx.star_graph(n)"
   ]
  },
  {
   "cell_type": "code",
   "execution_count": null,
   "metadata": {},
   "outputs": [],
   "source": [
    "nx.draw_networkx(path_graph, with_labels=True)"
   ]
  },
  {
   "cell_type": "code",
   "execution_count": null,
   "metadata": {},
   "outputs": [],
   "source": [
    "nx.draw_networkx(loop_graph, with_labels=True)"
   ]
  },
  {
   "cell_type": "code",
   "execution_count": null,
   "metadata": {},
   "outputs": [],
   "source": [
    "nx.draw_networkx(four_pointed_star, with_labels=True)"
   ]
  },
  {
   "cell_type": "code",
   "execution_count": null,
   "metadata": {},
   "outputs": [],
   "source": [
    "from pyquil.api._quantum_computer import _get_qvm_with_topology\n",
    "path_qc = _get_qvm_with_topology(name='path', topology=path_graph, noisy=True)"
   ]
  },
  {
   "cell_type": "code",
   "execution_count": null,
   "metadata": {},
   "outputs": [],
   "source": [
    "path_outcomes = measure_quantum_volume(path_qc, num_circuits=200, num_shots=500, show_progress_bar=show_progress_bar)"
   ]
  },
  {
   "cell_type": "markdown",
   "metadata": {},
   "source": [
    "## Compare to noisy complete topology"
   ]
  },
  {
   "cell_type": "code",
   "execution_count": null,
   "metadata": {},
   "outputs": [],
   "source": [
    "depths = np.arange(2, 5)\n",
    "ideal_probs = [val[1] for val in ideal_outcomes]\n",
    "noisy_probs = [val[1] for val in noisy_outcomes]\n",
    "path_probs = [val[1] for val in path_outcomes]\n",
    "\n",
    "plt.axhline(.5 + np.log(2)/2, color='b', ls='--', label='ideal asymptote')\n",
    "plt.axhline(2/3, color='grey', ls=':', label='achievable threshold')\n",
    "plt.scatter(np.array(depths) - .1, ideal_probs, color='b', label='ideal simulation')\n",
    "plt.scatter(depths, noisy_probs, color='r', label='noisy complete simulation')\n",
    "plt.scatter(depths, path_probs, color='black', label='noisy path simulation')\n",
    "plt.ylabel(\"est. heavy output probability h_d\")\n",
    "plt.xlabel(\"width/depth of model circuit m=d\")\n",
    "plt.ylim(.4,1.0)\n",
    "plt.xlim(1.8, 4.2)\n",
    "plt.xticks(depths)\n",
    "plt.legend(loc='lower left')\n",
    "plt.show()"
   ]
  },
  {
   "cell_type": "code",
   "execution_count": null,
   "metadata": {},
   "outputs": [],
   "source": []
  }
 ],
 "metadata": {
  "kernelspec": {
   "display_name": "Python 3",
   "language": "python",
   "name": "python3"
  },
  "language_info": {
   "codemirror_mode": {
    "name": "ipython",
    "version": 3
   },
   "file_extension": ".py",
   "mimetype": "text/x-python",
   "name": "python",
   "nbconvert_exporter": "python",
   "pygments_lexer": "ipython3",
   "version": "3.6.5"
  }
 },
 "nbformat": 4,
 "nbformat_minor": 2
}
